{
  "nbformat": 4,
  "nbformat_minor": 0,
  "metadata": {
    "colab": {
      "provenance": []
    },
    "kernelspec": {
      "name": "python3",
      "display_name": "Python 3"
    },
    "language_info": {
      "name": "python"
    }
  },
  "cells": [
    {
      "cell_type": "markdown",
      "source": [
        "Artificial Neural Networks"
      ],
      "metadata": {
        "id": "QC7xwhzT6oAg"
      }
    },
    {
      "cell_type": "code",
      "source": [
        "pip install tensorflow scikit-learn"
      ],
      "metadata": {
        "colab": {
          "base_uri": "https://localhost:8080/"
        },
        "id": "cgP4MD8j6zyp",
        "outputId": "1018b92c-827f-42d4-86f5-26ceb6d42156"
      },
      "execution_count": 21,
      "outputs": [
        {
          "output_type": "stream",
          "name": "stdout",
          "text": [
            "Requirement already satisfied: tensorflow in /usr/local/lib/python3.10/dist-packages (2.14.0)\n",
            "Requirement already satisfied: scikit-learn in /usr/local/lib/python3.10/dist-packages (1.2.2)\n",
            "Requirement already satisfied: absl-py>=1.0.0 in /usr/local/lib/python3.10/dist-packages (from tensorflow) (1.4.0)\n",
            "Requirement already satisfied: astunparse>=1.6.0 in /usr/local/lib/python3.10/dist-packages (from tensorflow) (1.6.3)\n",
            "Requirement already satisfied: flatbuffers>=23.5.26 in /usr/local/lib/python3.10/dist-packages (from tensorflow) (23.5.26)\n",
            "Requirement already satisfied: gast!=0.5.0,!=0.5.1,!=0.5.2,>=0.2.1 in /usr/local/lib/python3.10/dist-packages (from tensorflow) (0.5.4)\n",
            "Requirement already satisfied: google-pasta>=0.1.1 in /usr/local/lib/python3.10/dist-packages (from tensorflow) (0.2.0)\n",
            "Requirement already satisfied: h5py>=2.9.0 in /usr/local/lib/python3.10/dist-packages (from tensorflow) (3.9.0)\n",
            "Requirement already satisfied: libclang>=13.0.0 in /usr/local/lib/python3.10/dist-packages (from tensorflow) (16.0.6)\n",
            "Requirement already satisfied: ml-dtypes==0.2.0 in /usr/local/lib/python3.10/dist-packages (from tensorflow) (0.2.0)\n",
            "Requirement already satisfied: numpy>=1.23.5 in /usr/local/lib/python3.10/dist-packages (from tensorflow) (1.23.5)\n",
            "Requirement already satisfied: opt-einsum>=2.3.2 in /usr/local/lib/python3.10/dist-packages (from tensorflow) (3.3.0)\n",
            "Requirement already satisfied: packaging in /usr/local/lib/python3.10/dist-packages (from tensorflow) (23.2)\n",
            "Requirement already satisfied: protobuf!=4.21.0,!=4.21.1,!=4.21.2,!=4.21.3,!=4.21.4,!=4.21.5,<5.0.0dev,>=3.20.3 in /usr/local/lib/python3.10/dist-packages (from tensorflow) (3.20.3)\n",
            "Requirement already satisfied: setuptools in /usr/local/lib/python3.10/dist-packages (from tensorflow) (67.7.2)\n",
            "Requirement already satisfied: six>=1.12.0 in /usr/local/lib/python3.10/dist-packages (from tensorflow) (1.16.0)\n",
            "Requirement already satisfied: termcolor>=1.1.0 in /usr/local/lib/python3.10/dist-packages (from tensorflow) (2.3.0)\n",
            "Requirement already satisfied: typing-extensions>=3.6.6 in /usr/local/lib/python3.10/dist-packages (from tensorflow) (4.5.0)\n",
            "Requirement already satisfied: wrapt<1.15,>=1.11.0 in /usr/local/lib/python3.10/dist-packages (from tensorflow) (1.14.1)\n",
            "Requirement already satisfied: tensorflow-io-gcs-filesystem>=0.23.1 in /usr/local/lib/python3.10/dist-packages (from tensorflow) (0.34.0)\n",
            "Requirement already satisfied: grpcio<2.0,>=1.24.3 in /usr/local/lib/python3.10/dist-packages (from tensorflow) (1.59.2)\n",
            "Requirement already satisfied: tensorboard<2.15,>=2.14 in /usr/local/lib/python3.10/dist-packages (from tensorflow) (2.14.1)\n",
            "Requirement already satisfied: tensorflow-estimator<2.15,>=2.14.0 in /usr/local/lib/python3.10/dist-packages (from tensorflow) (2.14.0)\n",
            "Requirement already satisfied: keras<2.15,>=2.14.0 in /usr/local/lib/python3.10/dist-packages (from tensorflow) (2.14.0)\n",
            "Requirement already satisfied: scipy>=1.3.2 in /usr/local/lib/python3.10/dist-packages (from scikit-learn) (1.11.3)\n",
            "Requirement already satisfied: joblib>=1.1.1 in /usr/local/lib/python3.10/dist-packages (from scikit-learn) (1.3.2)\n",
            "Requirement already satisfied: threadpoolctl>=2.0.0 in /usr/local/lib/python3.10/dist-packages (from scikit-learn) (3.2.0)\n",
            "Requirement already satisfied: wheel<1.0,>=0.23.0 in /usr/local/lib/python3.10/dist-packages (from astunparse>=1.6.0->tensorflow) (0.41.3)\n",
            "Requirement already satisfied: google-auth<3,>=1.6.3 in /usr/local/lib/python3.10/dist-packages (from tensorboard<2.15,>=2.14->tensorflow) (2.17.3)\n",
            "Requirement already satisfied: google-auth-oauthlib<1.1,>=0.5 in /usr/local/lib/python3.10/dist-packages (from tensorboard<2.15,>=2.14->tensorflow) (1.0.0)\n",
            "Requirement already satisfied: markdown>=2.6.8 in /usr/local/lib/python3.10/dist-packages (from tensorboard<2.15,>=2.14->tensorflow) (3.5.1)\n",
            "Requirement already satisfied: requests<3,>=2.21.0 in /usr/local/lib/python3.10/dist-packages (from tensorboard<2.15,>=2.14->tensorflow) (2.31.0)\n",
            "Requirement already satisfied: tensorboard-data-server<0.8.0,>=0.7.0 in /usr/local/lib/python3.10/dist-packages (from tensorboard<2.15,>=2.14->tensorflow) (0.7.2)\n",
            "Requirement already satisfied: werkzeug>=1.0.1 in /usr/local/lib/python3.10/dist-packages (from tensorboard<2.15,>=2.14->tensorflow) (3.0.1)\n",
            "Requirement already satisfied: cachetools<6.0,>=2.0.0 in /usr/local/lib/python3.10/dist-packages (from google-auth<3,>=1.6.3->tensorboard<2.15,>=2.14->tensorflow) (5.3.2)\n",
            "Requirement already satisfied: pyasn1-modules>=0.2.1 in /usr/local/lib/python3.10/dist-packages (from google-auth<3,>=1.6.3->tensorboard<2.15,>=2.14->tensorflow) (0.3.0)\n",
            "Requirement already satisfied: rsa<5,>=3.1.4 in /usr/local/lib/python3.10/dist-packages (from google-auth<3,>=1.6.3->tensorboard<2.15,>=2.14->tensorflow) (4.9)\n",
            "Requirement already satisfied: requests-oauthlib>=0.7.0 in /usr/local/lib/python3.10/dist-packages (from google-auth-oauthlib<1.1,>=0.5->tensorboard<2.15,>=2.14->tensorflow) (1.3.1)\n",
            "Requirement already satisfied: charset-normalizer<4,>=2 in /usr/local/lib/python3.10/dist-packages (from requests<3,>=2.21.0->tensorboard<2.15,>=2.14->tensorflow) (3.3.2)\n",
            "Requirement already satisfied: idna<4,>=2.5 in /usr/local/lib/python3.10/dist-packages (from requests<3,>=2.21.0->tensorboard<2.15,>=2.14->tensorflow) (3.4)\n",
            "Requirement already satisfied: urllib3<3,>=1.21.1 in /usr/local/lib/python3.10/dist-packages (from requests<3,>=2.21.0->tensorboard<2.15,>=2.14->tensorflow) (2.0.7)\n",
            "Requirement already satisfied: certifi>=2017.4.17 in /usr/local/lib/python3.10/dist-packages (from requests<3,>=2.21.0->tensorboard<2.15,>=2.14->tensorflow) (2023.7.22)\n",
            "Requirement already satisfied: MarkupSafe>=2.1.1 in /usr/local/lib/python3.10/dist-packages (from werkzeug>=1.0.1->tensorboard<2.15,>=2.14->tensorflow) (2.1.3)\n",
            "Requirement already satisfied: pyasn1<0.6.0,>=0.4.6 in /usr/local/lib/python3.10/dist-packages (from pyasn1-modules>=0.2.1->google-auth<3,>=1.6.3->tensorboard<2.15,>=2.14->tensorflow) (0.5.0)\n",
            "Requirement already satisfied: oauthlib>=3.0.0 in /usr/local/lib/python3.10/dist-packages (from requests-oauthlib>=0.7.0->google-auth-oauthlib<1.1,>=0.5->tensorboard<2.15,>=2.14->tensorflow) (3.2.2)\n"
          ]
        }
      ]
    },
    {
      "cell_type": "code",
      "source": [
        "import pandas as pd\n",
        "from sklearn.model_selection import train_test_split\n",
        "from sklearn.preprocessing import StandardScaler\n",
        "from tensorflow import keras\n",
        "from tensorflow.keras.models import Sequential\n",
        "from tensorflow.keras.layers import Dense\n",
        "from sklearn.metrics import accuracy_score, classification_report, confusion_matrix"
      ],
      "metadata": {
        "id": "iK5HIS2Y664F"
      },
      "execution_count": 22,
      "outputs": []
    },
    {
      "cell_type": "code",
      "source": [
        "data = pd.read_csv('cancer patient data sets.csv')"
      ],
      "metadata": {
        "id": "Onrrwo-16_Bs"
      },
      "execution_count": 23,
      "outputs": []
    },
    {
      "cell_type": "code",
      "source": [
        "column_to_drop = 'Patient Id'\n",
        "data = data.drop(column_to_drop, axis=1)"
      ],
      "metadata": {
        "id": "y9IU3jdb7kbb"
      },
      "execution_count": 27,
      "outputs": []
    },
    {
      "cell_type": "code",
      "source": [
        "column_to_drop = 'Level'\n",
        "data = data.drop(column_to_drop, axis=1)"
      ],
      "metadata": {
        "id": "y9q2ad6j8KDT"
      },
      "execution_count": 29,
      "outputs": []
    },
    {
      "cell_type": "code",
      "source": [
        "# Separate features and labels\n",
        "X = data.drop('Alcohol use', axis=1)\n",
        "y = data['Alcohol use']\n",
        "\n",
        "# Split the data into training and testing sets\n",
        "X_train, X_test, y_train, y_test = train_test_split(X, y, test_size=0.2, random_state=42)\n",
        "\n",
        "# Standardize the feature data\n",
        "scaler = StandardScaler()\n",
        "X_train = scaler.fit_transform(X_train)\n",
        "X_test = scaler.transform(X_test)"
      ],
      "metadata": {
        "id": "vZmmFr517KIb"
      },
      "execution_count": 30,
      "outputs": []
    },
    {
      "cell_type": "code",
      "source": [
        "# Initialize the ANN model\n",
        "model = Sequential()\n",
        "\n",
        "# Add input layer and one or more hidden layers\n",
        "model.add(Dense(units=64, activation='relu', input_dim=X_train.shape[1]))\n",
        "model.add(Dense(units=32, activation='relu'))\n",
        "model.add(Dense(units=1, activation='sigmoid'))  # Binary classification\n",
        "\n",
        "# Compile the model\n",
        "model.compile(optimizer='adam', loss='binary_crossentropy', metrics=['accuracy'])\n",
        "\n",
        "# Train the model\n",
        "model.fit(X_train, y_train, epochs=50, batch_size=32)\n",
        "\n",
        "# Make predictions on the test data\n",
        "y_pred = (model.predict(X_test) > 0.5).astype(int)"
      ],
      "metadata": {
        "colab": {
          "base_uri": "https://localhost:8080/"
        },
        "id": "s8MPrv8Z9RjQ",
        "outputId": "bbf4da49-505d-4236-fc14-132b09efa4be"
      },
      "execution_count": 31,
      "outputs": [
        {
          "output_type": "stream",
          "name": "stdout",
          "text": [
            "Epoch 1/50\n",
            "25/25 [==============================] - 1s 3ms/step - loss: -0.4661 - accuracy: 0.1050\n",
            "Epoch 2/50\n",
            "25/25 [==============================] - 0s 4ms/step - loss: -10.2750 - accuracy: 0.1550\n",
            "Epoch 3/50\n",
            "25/25 [==============================] - 0s 4ms/step - loss: -30.3990 - accuracy: 0.1550\n",
            "Epoch 4/50\n",
            "25/25 [==============================] - 0s 3ms/step - loss: -79.9800 - accuracy: 0.1550\n",
            "Epoch 5/50\n",
            "25/25 [==============================] - 0s 3ms/step - loss: -183.0427 - accuracy: 0.1550\n",
            "Epoch 6/50\n",
            "25/25 [==============================] - 0s 3ms/step - loss: -369.7099 - accuracy: 0.1550\n",
            "Epoch 7/50\n",
            "25/25 [==============================] - 0s 3ms/step - loss: -683.0047 - accuracy: 0.1550\n",
            "Epoch 8/50\n",
            "25/25 [==============================] - 0s 4ms/step - loss: -1133.3743 - accuracy: 0.1550\n",
            "Epoch 9/50\n",
            "25/25 [==============================] - 0s 3ms/step - loss: -1783.7457 - accuracy: 0.1550\n",
            "Epoch 10/50\n",
            "25/25 [==============================] - 0s 4ms/step - loss: -2624.0483 - accuracy: 0.1550\n",
            "Epoch 11/50\n",
            "25/25 [==============================] - 0s 3ms/step - loss: -3702.1169 - accuracy: 0.1550\n",
            "Epoch 12/50\n",
            "25/25 [==============================] - 0s 2ms/step - loss: -5046.8970 - accuracy: 0.1550\n",
            "Epoch 13/50\n",
            "25/25 [==============================] - 0s 2ms/step - loss: -6672.8369 - accuracy: 0.1550\n",
            "Epoch 14/50\n",
            "25/25 [==============================] - 0s 3ms/step - loss: -8598.2432 - accuracy: 0.1550\n",
            "Epoch 15/50\n",
            "25/25 [==============================] - 0s 2ms/step - loss: -10888.4814 - accuracy: 0.1550\n",
            "Epoch 16/50\n",
            "25/25 [==============================] - 0s 2ms/step - loss: -13517.4492 - accuracy: 0.1550\n",
            "Epoch 17/50\n",
            "25/25 [==============================] - 0s 2ms/step - loss: -16504.0566 - accuracy: 0.1550\n",
            "Epoch 18/50\n",
            "25/25 [==============================] - 0s 2ms/step - loss: -19911.4785 - accuracy: 0.1550\n",
            "Epoch 19/50\n",
            "25/25 [==============================] - 0s 2ms/step - loss: -23772.1621 - accuracy: 0.1550\n",
            "Epoch 20/50\n",
            "25/25 [==============================] - 0s 2ms/step - loss: -28037.5684 - accuracy: 0.1550\n",
            "Epoch 21/50\n",
            "25/25 [==============================] - 0s 2ms/step - loss: -32796.9766 - accuracy: 0.1550\n",
            "Epoch 22/50\n",
            "25/25 [==============================] - 0s 2ms/step - loss: -38098.3828 - accuracy: 0.1550\n",
            "Epoch 23/50\n",
            "25/25 [==============================] - 0s 2ms/step - loss: -43795.1211 - accuracy: 0.1550\n",
            "Epoch 24/50\n",
            "25/25 [==============================] - 0s 2ms/step - loss: -50060.0508 - accuracy: 0.1550\n",
            "Epoch 25/50\n",
            "25/25 [==============================] - 0s 2ms/step - loss: -56793.4453 - accuracy: 0.1550\n",
            "Epoch 26/50\n",
            "25/25 [==============================] - 0s 2ms/step - loss: -64211.9766 - accuracy: 0.1550\n",
            "Epoch 27/50\n",
            "25/25 [==============================] - 0s 2ms/step - loss: -72086.9062 - accuracy: 0.1550\n",
            "Epoch 28/50\n",
            "25/25 [==============================] - 0s 2ms/step - loss: -80599.5469 - accuracy: 0.1550\n",
            "Epoch 29/50\n",
            "25/25 [==============================] - 0s 2ms/step - loss: -89701.2188 - accuracy: 0.1550\n",
            "Epoch 30/50\n",
            "25/25 [==============================] - 0s 2ms/step - loss: -99456.9609 - accuracy: 0.1550\n",
            "Epoch 31/50\n",
            "25/25 [==============================] - 0s 3ms/step - loss: -109871.3906 - accuracy: 0.1550\n",
            "Epoch 32/50\n",
            "25/25 [==============================] - 0s 2ms/step - loss: -120740.3516 - accuracy: 0.1550\n",
            "Epoch 33/50\n",
            "25/25 [==============================] - 0s 2ms/step - loss: -132497.6562 - accuracy: 0.1550\n",
            "Epoch 34/50\n",
            "25/25 [==============================] - 0s 2ms/step - loss: -144690.7969 - accuracy: 0.1550\n",
            "Epoch 35/50\n",
            "25/25 [==============================] - 0s 2ms/step - loss: -157841.7500 - accuracy: 0.1550\n",
            "Epoch 36/50\n",
            "25/25 [==============================] - 0s 2ms/step - loss: -171530.2969 - accuracy: 0.1550\n",
            "Epoch 37/50\n",
            "25/25 [==============================] - 0s 2ms/step - loss: -186092.6406 - accuracy: 0.1550\n",
            "Epoch 38/50\n",
            "25/25 [==============================] - 0s 2ms/step - loss: -201010.5000 - accuracy: 0.1550\n",
            "Epoch 39/50\n",
            "25/25 [==============================] - 0s 2ms/step - loss: -216954.2969 - accuracy: 0.1550\n",
            "Epoch 40/50\n",
            "25/25 [==============================] - 0s 2ms/step - loss: -233806.8750 - accuracy: 0.1550\n",
            "Epoch 41/50\n",
            "25/25 [==============================] - 0s 2ms/step - loss: -251118.8125 - accuracy: 0.1550\n",
            "Epoch 42/50\n",
            "25/25 [==============================] - 0s 2ms/step - loss: -269182.1875 - accuracy: 0.1550\n",
            "Epoch 43/50\n",
            "25/25 [==============================] - 0s 2ms/step - loss: -287966.0938 - accuracy: 0.1550\n",
            "Epoch 44/50\n",
            "25/25 [==============================] - 0s 2ms/step - loss: -308119.9062 - accuracy: 0.1550\n",
            "Epoch 45/50\n",
            "25/25 [==============================] - 0s 3ms/step - loss: -328459.8438 - accuracy: 0.1550\n",
            "Epoch 46/50\n",
            "25/25 [==============================] - 0s 3ms/step - loss: -349484.1562 - accuracy: 0.1550\n",
            "Epoch 47/50\n",
            "25/25 [==============================] - 0s 2ms/step - loss: -372162.3125 - accuracy: 0.1550\n",
            "Epoch 48/50\n",
            "25/25 [==============================] - 0s 3ms/step - loss: -394824.8750 - accuracy: 0.1550\n",
            "Epoch 49/50\n",
            "25/25 [==============================] - 0s 2ms/step - loss: -418520.8438 - accuracy: 0.1550\n",
            "Epoch 50/50\n",
            "25/25 [==============================] - 0s 2ms/step - loss: -442924.0938 - accuracy: 0.1550\n",
            "7/7 [==============================] - 0s 3ms/step\n"
          ]
        }
      ]
    },
    {
      "cell_type": "code",
      "source": [
        "accuracy = accuracy_score(y_test, y_pred)\n",
        "confusion = confusion_matrix(y_test, y_pred)\n",
        "classification_report_str = classification_report(y_test, y_pred)\n",
        "\n",
        "# Print the results\n",
        "print(f\"Accuracy: {accuracy}\")\n",
        "print(\"Confusion Matrix:\")\n",
        "print(confusion)\n",
        "print(\"Classification Report:\")\n",
        "print(classification_report_str)"
      ],
      "metadata": {
        "colab": {
          "base_uri": "https://localhost:8080/"
        },
        "id": "EKJ0UUEd9dBq",
        "outputId": "b89cc14e-7c2b-4f9b-cb95-f41fbf5e3d99"
      },
      "execution_count": 32,
      "outputs": [
        {
          "output_type": "stream",
          "name": "stdout",
          "text": [
            "Accuracy: 0.14\n",
            "Confusion Matrix:\n",
            "[[28  0  0  0  0  0  0  0]\n",
            " [38  0  0  0  0  0  0  0]\n",
            " [15  0  0  0  0  0  0  0]\n",
            " [ 2  0  0  0  0  0  0  0]\n",
            " [14  0  0  0  0  0  0  0]\n",
            " [18  0  0  0  0  0  0  0]\n",
            " [48  0  0  0  0  0  0  0]\n",
            " [37  0  0  0  0  0  0  0]]\n",
            "Classification Report:\n",
            "              precision    recall  f1-score   support\n",
            "\n",
            "           1       0.14      1.00      0.25        28\n",
            "           2       0.00      0.00      0.00        38\n",
            "           3       0.00      0.00      0.00        15\n",
            "           4       0.00      0.00      0.00         2\n",
            "           5       0.00      0.00      0.00        14\n",
            "           6       0.00      0.00      0.00        18\n",
            "           7       0.00      0.00      0.00        48\n",
            "           8       0.00      0.00      0.00        37\n",
            "\n",
            "    accuracy                           0.14       200\n",
            "   macro avg       0.02      0.12      0.03       200\n",
            "weighted avg       0.02      0.14      0.03       200\n",
            "\n"
          ]
        },
        {
          "output_type": "stream",
          "name": "stderr",
          "text": [
            "/usr/local/lib/python3.10/dist-packages/sklearn/metrics/_classification.py:1344: UndefinedMetricWarning: Precision and F-score are ill-defined and being set to 0.0 in labels with no predicted samples. Use `zero_division` parameter to control this behavior.\n",
            "  _warn_prf(average, modifier, msg_start, len(result))\n",
            "/usr/local/lib/python3.10/dist-packages/sklearn/metrics/_classification.py:1344: UndefinedMetricWarning: Precision and F-score are ill-defined and being set to 0.0 in labels with no predicted samples. Use `zero_division` parameter to control this behavior.\n",
            "  _warn_prf(average, modifier, msg_start, len(result))\n",
            "/usr/local/lib/python3.10/dist-packages/sklearn/metrics/_classification.py:1344: UndefinedMetricWarning: Precision and F-score are ill-defined and being set to 0.0 in labels with no predicted samples. Use `zero_division` parameter to control this behavior.\n",
            "  _warn_prf(average, modifier, msg_start, len(result))\n"
          ]
        }
      ]
    }
  ]
}